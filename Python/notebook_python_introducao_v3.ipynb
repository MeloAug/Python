{
  "cells": [
    {
      "cell_type": "markdown",
      "id": "3177d117",
      "metadata": {
        "id": "3177d117"
      },
      "source": [
        "# Introdução ao Python\n",
        "Exemplos básicos de ferramentas que podem compor um código.\n"
      ]
    },
    {
      "cell_type": "markdown",
      "source": [
        "## 1. Fundamentos"
      ],
      "metadata": {
        "id": "oAvVFoPh1dsa"
      },
      "id": "oAvVFoPh1dsa"
    },
    {
      "cell_type": "code",
      "source": [
        "# linhas comentadas iniciam com hashtag (#)\n",
        "\n",
        "'''\n",
        "comentar trecho de código (conjunto de linhas)\n",
        "pode ser feito\n",
        "com três apóstrofos\n",
        "'''"
      ],
      "metadata": {
        "colab": {
          "base_uri": "https://localhost:8080/",
          "height": 35
        },
        "id": "aUSFZBmnuxK_",
        "outputId": "75adc817-a719-4252-d833-85c56b5753e7"
      },
      "id": "aUSFZBmnuxK_",
      "execution_count": null,
      "outputs": [
        {
          "output_type": "execute_result",
          "data": {
            "text/plain": [
              "'\\ncomentar trecho de código (conjunto de linhas)\\npode ser feito\\ncom três apóstrofos\\n'"
            ],
            "application/vnd.google.colaboratory.intrinsic+json": {
              "type": "string"
            }
          },
          "metadata": {},
          "execution_count": 110
        }
      ]
    },
    {
      "cell_type": "code",
      "execution_count": null,
      "id": "97855519",
      "metadata": {
        "id": "97855519"
      },
      "outputs": [],
      "source": [
        "\n",
        "# declaração de variáveis\n",
        "# variáveis são espaços de memória capazes de armazenar informações\n",
        "idade  = 25           # declaração da variável idade, a qual aramazena o número 25\n",
        "cidade = \"São Paulo\"  # declaração da variável cidade, a qual aramazena texto\n"
      ]
    },
    {
      "cell_type": "code",
      "source": [
        "# declaração de múltiplas variáveis em apenas uma linha\n",
        "x, y, z = 10, 20, 30  #declaração de três variáveis x=10  y=20  z=30"
      ],
      "metadata": {
        "id": "zPO8Noip5J_K"
      },
      "id": "zPO8Noip5J_K",
      "execution_count": null,
      "outputs": []
    },
    {
      "cell_type": "code",
      "execution_count": null,
      "id": "e2a70592",
      "metadata": {
        "colab": {
          "base_uri": "https://localhost:8080/"
        },
        "id": "e2a70592",
        "outputId": "78345cba-ea6f-4b14-dc74-40db3ded177c"
      },
      "outputs": [
        {
          "output_type": "stream",
          "name": "stdout",
          "text": [
            "<class 'int'> 10\n",
            "<class 'float'> 3.14\n",
            "<class 'str'> Python\n",
            "<class 'bool'> True\n"
          ]
        }
      ],
      "source": [
        "# tipos de dados\n",
        "# o tipo de dado pode ser atribuído à variável automaticamente pelo Python\n",
        "inteiro   = 10        # int\n",
        "flutuante = 3.14      # float\n",
        "texto     = \"Python\"  # string\n",
        "booleano  = True      # bool\n",
        "\n",
        "# método type retorna o tipo de dado\n",
        "#exibe os tipos das variáveis e seus respectivos valores\n",
        "print(type(inteiro), inteiro)\n",
        "print(type(flutuante), flutuante)\n",
        "print(type(texto), texto)\n",
        "print(type(booleano), booleano)\n"
      ]
    },
    {
      "cell_type": "code",
      "execution_count": null,
      "id": "a0fc7b4f",
      "metadata": {
        "colab": {
          "base_uri": "https://localhost:8080/"
        },
        "id": "a0fc7b4f",
        "outputId": "d0f0c095-5004-4902-ed8f-841b03787fde"
      },
      "outputs": [
        {
          "output_type": "stream",
          "name": "stdout",
          "text": [
            "Olá, pessoal!\n"
          ]
        }
      ],
      "source": [
        "# mostrar mensagem\n",
        "print(\"Olá, pessoal!\")  # imprime texto na tela"
      ]
    },
    {
      "cell_type": "code",
      "execution_count": null,
      "id": "0e5c614b",
      "metadata": {
        "colab": {
          "base_uri": "https://localhost:8080/"
        },
        "id": "0e5c614b",
        "outputId": "96b7fa4c-7d81-430b-cca7-e032c5526908"
      },
      "outputs": [
        {
          "output_type": "stream",
          "name": "stdout",
          "text": [
            "Digite seu nome: Jão\n",
            "Bem-vindo, Jão\n"
          ]
        }
      ],
      "source": [
        "# entrada de dados digitados utilizando o método input()\n",
        "nome = input(\"Digite seu nome: \")\n",
        "print(\"Bem-vindo,\", nome)         #exibe mensagem com a \"parte fixa\" e o valor da variável"
      ]
    },
    {
      "cell_type": "code",
      "execution_count": null,
      "id": "2a523b13",
      "metadata": {
        "colab": {
          "base_uri": "https://localhost:8080/"
        },
        "id": "2a523b13",
        "outputId": "67bb03f7-0314-45c8-feed-fc679ef7e64e"
      },
      "outputs": [
        {
          "output_type": "stream",
          "name": "stdout",
          "text": [
            "String: 100 <class 'str'>\n",
            "Int: 100 <class 'int'>\n",
            "Float: 100.0 <class 'float'>\n"
          ]
        }
      ],
      "source": [
        "# conversão de tipos de dados\n",
        "numero_str    = \"100\"\n",
        "numero_int    = int(numero_str)   # conversão para inteiro\n",
        "numero_float  = float(numero_str) # conversão para float\n",
        "\n",
        "print(\"String:\", numero_str, type(numero_str))\n",
        "print(\"Int:\", numero_int, type(numero_int))\n",
        "print(\"Float:\", numero_float, type(numero_float))\n"
      ]
    },
    {
      "cell_type": "code",
      "execution_count": null,
      "id": "eac6c748",
      "metadata": {
        "colab": {
          "base_uri": "https://localhost:8080/"
        },
        "id": "eac6c748",
        "outputId": "4ba41553-7583-4da6-c369-a22cc5a407c5"
      },
      "outputs": [
        {
          "output_type": "stream",
          "name": "stdout",
          "text": [
            "O valor da variável x é: 50\n"
          ]
        }
      ],
      "source": [
        "# exibe mensagem com parte fixa e variável\n",
        "x = 50\n",
        "print(f\"O valor da variável x é: {x}\")\n"
      ]
    },
    {
      "cell_type": "code",
      "source": [
        "# operadores\n",
        "a, b = 10, 3\n",
        "print(\"Soma:\", a + b)\n",
        "print(\"Subtração:\", a - b)\n",
        "print(\"Multiplicação:\", a * b)\n",
        "print(\"Divisão:\", a / b)\n",
        "print(\"Divisão inteira:\", a // b)\n",
        "print(\"Resto:\", a % b)\n",
        "print(\"Potência:\", a ** b)\n",
        "print(\"Comparação:\", a > b, a == b)\n",
        "print(\"Lógico:\", (a > 5) and (b < 5))"
      ],
      "metadata": {
        "colab": {
          "base_uri": "https://localhost:8080/"
        },
        "id": "5tsj0kbYa3_u",
        "outputId": "3fa28736-7e26-4d6e-e9c1-74e853a81562"
      },
      "id": "5tsj0kbYa3_u",
      "execution_count": null,
      "outputs": [
        {
          "output_type": "stream",
          "name": "stdout",
          "text": [
            "Soma: 13\n",
            "Subtração: 7\n",
            "Multiplicação: 30\n",
            "Divisão: 3.3333333333333335\n",
            "Divisão inteira: 3\n",
            "Resto: 1\n",
            "Potência: 1000\n",
            "Comparação: True False\n",
            "Lógico: True\n"
          ]
        }
      ]
    },
    {
      "cell_type": "code",
      "execution_count": null,
      "id": "4d6210c6",
      "metadata": {
        "colab": {
          "base_uri": "https://localhost:8080/"
        },
        "id": "4d6210c6",
        "outputId": "4e380d0e-9df1-4d70-dc94-081cd7f56f7f"
      },
      "outputs": [
        {
          "output_type": "stream",
          "name": "stdout",
          "text": [
            "Valor final de x: 6.0\n"
          ]
        }
      ],
      "source": [
        "# diferentes formas de atribuições\n",
        "x = 2\n",
        "x += 3   # equivalente a x = x + 3\n",
        "x -= 2   # equivalente a x = x - 2\n",
        "x *= 4   # equivalente a x = x * 4\n",
        "x /= 2   # equivalente a x = x / 2\n",
        "\n",
        "print(\"Valor final de x:\", x)\n"
      ]
    },
    {
      "cell_type": "code",
      "source": [
        "# arredondar casas após a vírgula\n",
        "print(round(3.14159, 2))"
      ],
      "metadata": {
        "colab": {
          "base_uri": "https://localhost:8080/"
        },
        "id": "es5ybJLCwkDn",
        "outputId": "d942dd53-eac2-4295-a0ff-4ff5c0d2255a"
      },
      "id": "es5ybJLCwkDn",
      "execution_count": null,
      "outputs": [
        {
          "output_type": "stream",
          "name": "stdout",
          "text": [
            "3.14\n"
          ]
        }
      ]
    },
    {
      "cell_type": "markdown",
      "source": [
        "## 2. Comandos (if, for, while, etc)"
      ],
      "metadata": {
        "id": "kz_BF5he1N4q"
      },
      "id": "kz_BF5he1N4q"
    },
    {
      "cell_type": "code",
      "execution_count": null,
      "id": "536e7807",
      "metadata": {
        "colab": {
          "base_uri": "https://localhost:8080/"
        },
        "id": "536e7807",
        "outputId": "ed22dc07-932a-48a0-a39c-3f7207a1c9bd"
      },
      "outputs": [
        {
          "output_type": "stream",
          "name": "stdout",
          "text": [
            "Digite sua idade: 21\n",
            "Você é maior de idade.\n"
          ]
        }
      ],
      "source": [
        "# comando if else\n",
        "idade = int(input(\"Digite sua idade: \"))\n",
        "if idade >= 18:                       # testa se a condição(idade é maior ou igual a 18)\n",
        "    print(\"Você é maior de idade.\")   # executa essa linha apenas se satisfazer a condição\n",
        "else:\n",
        "    print(\"Você é menor de idade.\")   # executa essa linha apenas se NÃO satisfazer a condição\n"
      ]
    },
    {
      "cell_type": "code",
      "source": [
        "# comando if elif else\n",
        "# elif permite que possam ser adicionadas outras condições para teste\n",
        "idade = float(input(\"Digite sua idade: \"))\n",
        "if idade >= 18:\n",
        "    print(\"Adulto(a)\")\n",
        "elif idade >= 12:         # realiza outro teste além do anterior\n",
        "    print(\"Adolescente\")\n",
        "else:\n",
        "    print(\"Criança\")"
      ],
      "metadata": {
        "colab": {
          "base_uri": "https://localhost:8080/"
        },
        "id": "4LHKHXfVxrWA",
        "outputId": "de28cb0f-ca5a-4cb0-b14d-a94fe0945438"
      },
      "id": "4LHKHXfVxrWA",
      "execution_count": null,
      "outputs": [
        {
          "output_type": "stream",
          "name": "stdout",
          "text": [
            "Digite sua idade: 25\n",
            "Adulto(a)\n"
          ]
        }
      ]
    },
    {
      "cell_type": "code",
      "source": [
        "# condição utizando a operação 'and'\n",
        "# exige que sejam satisfeitas todas as condições (duas ou mais)\n",
        "idade = int(input(\"Digite sua idade: \"))\n",
        "if idade > 0 and idade < 12:        # testa duas condições\n",
        "    print(\"Você é uma criança.\")\n",
        "else:\n",
        "    print(\"Você não é uma criança.\")\n"
      ],
      "metadata": {
        "colab": {
          "base_uri": "https://localhost:8080/"
        },
        "id": "euVKJooFzjeH",
        "outputId": "ec389651-dd24-43d4-fbd4-ec2073d2098e"
      },
      "id": "euVKJooFzjeH",
      "execution_count": null,
      "outputs": [
        {
          "output_type": "stream",
          "name": "stdout",
          "text": [
            "Digite sua idade: 8\n",
            "Você é uma criança.\n"
          ]
        }
      ]
    },
    {
      "cell_type": "code",
      "source": [
        "# condição utizando a operação 'or'\n",
        "# exige que seja satisfeita pelo menos UMA condição\n",
        "idade = int(input(\"Digite sua idade: \"))\n",
        "if idade < 12 or idade >= 18:\n",
        "    print(\"Você não é um adolescente.\")\n",
        "else:\n",
        "    print(\"Você é um adolescente.\")\n"
      ],
      "metadata": {
        "colab": {
          "base_uri": "https://localhost:8080/"
        },
        "id": "NscqLiUZ0s8H",
        "outputId": "9e40ae8b-ccce-4adb-a3ad-c4f7e6c734b0"
      },
      "id": "NscqLiUZ0s8H",
      "execution_count": null,
      "outputs": [
        {
          "output_type": "stream",
          "name": "stdout",
          "text": [
            "Digite sua idade: 30\n",
            "Você não é um adolescente.\n"
          ]
        }
      ]
    },
    {
      "cell_type": "code",
      "source": [
        "# comparadores\n",
        "# comparadores podem ser utilizados em comandos como: if,while,for e outros\n",
        "x, y = 5, 10\n",
        "\n",
        "if x == y:\n",
        "    print(\"Igual\")\n",
        "if x != y:\n",
        "    print(\"Diferente\")\n",
        "if x > y:\n",
        "    print(\"Maior\")\n",
        "if x < y:\n",
        "    print(\"Menor\")\n",
        "if x >= y:\n",
        "    print(\"Maior ou igual\")\n",
        "if x <= y:\n",
        "    print(\"Menor ou igual\")"
      ],
      "metadata": {
        "colab": {
          "base_uri": "https://localhost:8080/"
        },
        "id": "TR5w_76Dbd_M",
        "outputId": "e3d097a1-0a7e-4a05-e277-e5412ea2104e"
      },
      "id": "TR5w_76Dbd_M",
      "execution_count": null,
      "outputs": [
        {
          "output_type": "stream",
          "name": "stdout",
          "text": [
            "Diferente\n",
            "Menor\n",
            "Menor ou igual\n"
          ]
        }
      ]
    },
    {
      "cell_type": "code",
      "execution_count": null,
      "id": "c1a70876",
      "metadata": {
        "colab": {
          "base_uri": "https://localhost:8080/"
        },
        "id": "c1a70876",
        "outputId": "d3c41be7-9cb5-47ee-e2ae-a7eda975b848"
      },
      "outputs": [
        {
          "output_type": "stream",
          "name": "stdout",
          "text": [
            "Contando de 1 até 5:\n",
            "1\n",
            "2\n",
            "3\n",
            "4\n",
            "5\n"
          ]
        }
      ],
      "source": [
        "# comando for\n",
        "# método range cria intervalo de valores\n",
        "print(\"Contando de 1 até 5:\")\n",
        "for i in range(1,6):\n",
        "    print(i)\n"
      ]
    },
    {
      "cell_type": "code",
      "execution_count": null,
      "id": "39ac05a0",
      "metadata": {
        "colab": {
          "base_uri": "https://localhost:8080/"
        },
        "id": "39ac05a0",
        "outputId": "b9587256-5ded-460d-eb9a-0f1ec0d6c47a"
      },
      "outputs": [
        {
          "output_type": "stream",
          "name": "stdout",
          "text": [
            "Contador: 0\n",
            "Contador: 1\n",
            "Contador: 2\n",
            "Contador: 3\n",
            "Contador: 4\n"
          ]
        }
      ],
      "source": [
        "# comando while\n",
        "contador = 0\n",
        "while contador < 5:   # executa o laço de repetição enquanto a condição (contador menor que 5) for satisfeita\n",
        "    print(\"Contador:\", contador)\n",
        "    contador += 1   #incrementa uma unidade na variável"
      ]
    },
    {
      "cell_type": "code",
      "execution_count": null,
      "id": "f9cd7f4b",
      "metadata": {
        "colab": {
          "base_uri": "https://localhost:8080/"
        },
        "id": "f9cd7f4b",
        "outputId": "8e49df44-ca03-47fc-a34d-5d4dab1d573f"
      },
      "outputs": [
        {
          "output_type": "stream",
          "name": "stdout",
          "text": [
            "Digite um número: 2\n",
            "Digite um número: 5\n",
            "Digite um número: 51\n",
            "Você digitou: 51\n"
          ]
        }
      ],
      "source": [
        "# comando break finaliza qualquer laço\n",
        "# finaliza o laço se digitar o número 51\n",
        "numero = 0\n",
        "while True:\n",
        "    numero = int(input(\"Digite um número: \"))\n",
        "    if numero == 51:\n",
        "        break   #finaliza a execução do laço\n",
        "print(\"Você digitou:\", numero)\n"
      ]
    },
    {
      "cell_type": "markdown",
      "source": [
        "## 3. Listas"
      ],
      "metadata": {
        "id": "PD3trq21028i"
      },
      "id": "PD3trq21028i"
    },
    {
      "cell_type": "code",
      "source": [
        "# listas podem armazenar diversas informações no mesmo objeto\n",
        "# os endereços para acesso aos elementos são números\n",
        "frutas = [\"maçã\", \"banana\", \"laranja\", \"pera\", \"abacate\"]  #declaração de lista com elementos\n",
        "\n",
        "frutas.append(\"uva\")      # adiciona elemento\n",
        "frutas.remove(\"laranja\")  # remove elemento\n",
        "frutas.insert(1, \"açai\")  # insere novo elemento na segunda posição\n",
        "frutas[3] = \"romã\"        # atualiza elemento da segunda posição\n",
        "frutas.pop()              # remove o último elemento\n",
        "frutas.pop(0)             # remove o primeiro elemento\n",
        "\n",
        "print(\"Lista final:\", frutas)\n",
        "print(\"Último da lista:\", frutas[-1])"
      ],
      "metadata": {
        "colab": {
          "base_uri": "https://localhost:8080/"
        },
        "id": "VF638wdb-q_c",
        "outputId": "4f78a2ef-bee8-48d3-c702-a5e7bce5ea9f"
      },
      "id": "VF638wdb-q_c",
      "execution_count": null,
      "outputs": [
        {
          "output_type": "stream",
          "name": "stdout",
          "text": [
            "Lista final: ['açai', 'banana', 'romã', 'abacate']\n",
            "Último da lista: abacate\n"
          ]
        }
      ]
    },
    {
      "cell_type": "code",
      "execution_count": null,
      "id": "f691e7fc",
      "metadata": {
        "colab": {
          "base_uri": "https://localhost:8080/"
        },
        "id": "f691e7fc",
        "outputId": "3886d005-42a0-442d-a124-be53fbdf371a"
      },
      "outputs": [
        {
          "output_type": "stream",
          "name": "stdout",
          "text": [
            "Lista em ordem alfabética: ['abacate', 'banana', 'laranja', 'maçã', 'pera']\n"
          ]
        }
      ],
      "source": [
        "# ordena lista por ordem crescente numérica ou alfabética\n",
        "frutas = [\"maçã\", \"banana\", \"laranja\", \"pera\", \"abacate\"]\n",
        "frutas.sort()\n",
        "\n",
        "print(\"Lista em ordem alfabética:\", frutas)"
      ]
    },
    {
      "cell_type": "code",
      "source": [
        "# ordena lista por ordem decrescente numérica ou alfabética\n",
        "frutas = [\"maçã\", \"banana\", \"laranja\", \"pera\", \"abacate\"]\n",
        "frutas.sort(reverse=True)\n",
        "\n",
        "print(\"Lista em ordem alfabética:\", frutas)"
      ],
      "metadata": {
        "colab": {
          "base_uri": "https://localhost:8080/"
        },
        "id": "uBIJ9k87DLKs",
        "outputId": "758c0fa1-74e5-4954-f827-95398589d35e"
      },
      "id": "uBIJ9k87DLKs",
      "execution_count": null,
      "outputs": [
        {
          "output_type": "stream",
          "name": "stdout",
          "text": [
            "Lista em ordem alfabética: ['pera', 'maçã', 'laranja', 'banana', 'abacate']\n"
          ]
        }
      ]
    },
    {
      "cell_type": "code",
      "source": [
        "# acesso a todos elementos da lista com o comando for\n",
        "frutas = [\"maçã\", \"banana\", \"laranja\", \"pera\", \"abacate\"]\n",
        "for fruta in frutas:\n",
        "    print(fruta)"
      ],
      "metadata": {
        "colab": {
          "base_uri": "https://localhost:8080/"
        },
        "id": "cRl7tcdiC7BJ",
        "outputId": "de2842bc-54c0-40e4-9859-a7f9794bede8"
      },
      "id": "cRl7tcdiC7BJ",
      "execution_count": null,
      "outputs": [
        {
          "output_type": "stream",
          "name": "stdout",
          "text": [
            "maçã\n",
            "banana\n",
            "laranja\n",
            "pera\n",
            "abacate\n"
          ]
        }
      ]
    },
    {
      "cell_type": "code",
      "source": [
        "# quantidade de elementos da lista usando o método len()\n",
        "frutas = [\"maçã\", \"banana\", \"laranja\", \"pera\", \"abacate\"]\n",
        "print(\"Quantidade de elementos da lista:\",len(frutas))"
      ],
      "metadata": {
        "colab": {
          "base_uri": "https://localhost:8080/"
        },
        "id": "ULARxuUJOXae",
        "outputId": "51785cc9-8cbe-4f08-f921-58611d7f363f"
      },
      "id": "ULARxuUJOXae",
      "execution_count": null,
      "outputs": [
        {
          "output_type": "stream",
          "name": "stdout",
          "text": [
            "Quantidade de elementos da lista: 5\n"
          ]
        }
      ]
    },
    {
      "cell_type": "code",
      "source": [
        "# exclui todos os elementos da lista\n",
        "frutas = [\"maçã\", \"banana\", \"laranja\", \"pera\", \"abacate\"]\n",
        "frutas.clear()  # exclui tudo\n",
        "\n",
        "print(\"Lista final: \", frutas)"
      ],
      "metadata": {
        "colab": {
          "base_uri": "https://localhost:8080/"
        },
        "id": "BV83wlFlIdJk",
        "outputId": "e4140325-d505-41dc-ff99-21da44d2b2aa"
      },
      "id": "BV83wlFlIdJk",
      "execution_count": null,
      "outputs": [
        {
          "output_type": "stream",
          "name": "stdout",
          "text": [
            "Lista final:  []\n"
          ]
        }
      ]
    },
    {
      "cell_type": "markdown",
      "source": [
        "## 4. Dicionários"
      ],
      "metadata": {
        "id": "h9F5CFCn06uq"
      },
      "id": "h9F5CFCn06uq"
    },
    {
      "cell_type": "code",
      "execution_count": null,
      "id": "4c0353d7",
      "metadata": {
        "colab": {
          "base_uri": "https://localhost:8080/"
        },
        "id": "4c0353d7",
        "outputId": "8e2b9461-1780-48fe-81b8-1897cfeadc1e"
      },
      "outputs": [
        {
          "output_type": "stream",
          "name": "stdout",
          "text": [
            "Dicionário final do aluno: {'nome': 'Ana', 'idade': 21, 'cidade': 'São Paulo'}\n",
            "Nome do aluno: Ana\n"
          ]
        }
      ],
      "source": [
        "# dicionários armazenam informações na forma chave:valor\n",
        "# as informações são acessadas indicando as chaves\n",
        "aluno = {\n",
        "    \"nome\": \"Ana\",\n",
        "    \"idade\": 20,\n",
        "    \"curso\": \"Engenharia\"\n",
        "}\n",
        "aluno[\"idade\"] = 21                         # atualiza valor do item\n",
        "aluno.pop(\"curso\")                          # remove chave\n",
        "aluno[\"cidade\"] = \"São Paulo\"               # adiciona chave\n",
        "print(\"Dicionário final do aluno:\", aluno)  # exibe todo o dicionário\n",
        "print(\"Nome do aluno:\", aluno[\"nome\"])      # exibe item específico do dicionário"
      ]
    },
    {
      "cell_type": "code",
      "source": [
        "# todas chaves do dicionário com o comando for\n",
        "aluno = {\n",
        "    \"nome\": \"Ana\",\n",
        "    \"idade\": 20,\n",
        "    \"curso\": \"Engenharia\"\n",
        "}\n",
        "for chave in aluno.keys():\n",
        "    print(chave)"
      ],
      "metadata": {
        "colab": {
          "base_uri": "https://localhost:8080/"
        },
        "id": "xBZRldJTJ5Yc",
        "outputId": "5ca39ec9-6fed-47e9-8f47-6e7adde490a6"
      },
      "id": "xBZRldJTJ5Yc",
      "execution_count": null,
      "outputs": [
        {
          "output_type": "stream",
          "name": "stdout",
          "text": [
            "nome\n",
            "idade\n",
            "curso\n"
          ]
        }
      ]
    },
    {
      "cell_type": "code",
      "source": [
        "# todos valores do dicionário com o comando for\n",
        "aluno = {\n",
        "    \"nome\": \"Ana\",\n",
        "    \"idade\": 20,\n",
        "    \"curso\": \"Engenharia\"\n",
        "}\n",
        "for valor in aluno.values():\n",
        "    print(valor)"
      ],
      "metadata": {
        "colab": {
          "base_uri": "https://localhost:8080/"
        },
        "id": "h5-WJRO4KalX",
        "outputId": "60a528a6-8115-4faa-9539-e0935a5a2aa8"
      },
      "id": "h5-WJRO4KalX",
      "execution_count": null,
      "outputs": [
        {
          "output_type": "stream",
          "name": "stdout",
          "text": [
            "Ana\n",
            "20\n",
            "Engenharia\n"
          ]
        }
      ]
    },
    {
      "cell_type": "code",
      "source": [
        "# todas chaves e valores do dicionário com o comando for\n",
        "aluno = {\n",
        "    \"nome\": \"Ana\",\n",
        "    \"idade\": 20,\n",
        "    \"curso\": \"Engenharia\"\n",
        "}\n",
        "for chave,valor in aluno.items():\n",
        "    print(chave,\":\",valor)"
      ],
      "metadata": {
        "colab": {
          "base_uri": "https://localhost:8080/"
        },
        "id": "QxUpw3B5KuMc",
        "outputId": "10bf1c46-7539-4d03-a5b4-7bbf117fca07"
      },
      "id": "QxUpw3B5KuMc",
      "execution_count": null,
      "outputs": [
        {
          "output_type": "stream",
          "name": "stdout",
          "text": [
            "nome : Ana\n",
            "idade : 20\n",
            "curso : Engenharia\n"
          ]
        }
      ]
    },
    {
      "cell_type": "code",
      "source": [
        "# quantidade de elementos da dicionário usando o método len()\n",
        "aluno = {\n",
        "    \"nome\": \"Ana\",\n",
        "    \"idade\": 20,\n",
        "    \"curso\": \"Engenharia\"\n",
        "}\n",
        "print(\"Quantidade de elementos do dicionário:\",len(aluno))"
      ],
      "metadata": {
        "colab": {
          "base_uri": "https://localhost:8080/"
        },
        "id": "HuoguxypO9wO",
        "outputId": "e3f323b7-54c0-475a-e8f3-ede73d64f589"
      },
      "id": "HuoguxypO9wO",
      "execution_count": null,
      "outputs": [
        {
          "output_type": "stream",
          "name": "stdout",
          "text": [
            "Quantidade de elementos do dicionário: 3\n"
          ]
        }
      ]
    },
    {
      "cell_type": "markdown",
      "source": [
        "## 5. Tuplas"
      ],
      "metadata": {
        "id": "3lZWvRZc0_F6"
      },
      "id": "3lZWvRZc0_F6"
    },
    {
      "cell_type": "code",
      "source": [
        "# similar à lista, porém dados não podem ser acrescentados ou removidos\n",
        "semana = ('domingo', 'segunda', 'terça', 'quarta', 'quinta', 'sexta', 'sábado')\n",
        "print(\"1° dia do semana: \", semana[0])\n",
        "print(\"Último dia do semana: \", semana[-1])"
      ],
      "metadata": {
        "colab": {
          "base_uri": "https://localhost:8080/"
        },
        "id": "SpkneCzc29sx",
        "outputId": "fa51181c-6f37-4e35-9b55-9351aad7268b"
      },
      "id": "SpkneCzc29sx",
      "execution_count": null,
      "outputs": [
        {
          "output_type": "stream",
          "name": "stdout",
          "text": [
            "1° dia do semana:  domingo\n",
            "Último dia do semana:  sábado\n"
          ]
        }
      ]
    },
    {
      "cell_type": "code",
      "source": [
        "# interação entre o comando for e uma tupla\n",
        "semana = ('domingo', 'segunda', 'terça', 'quarta', 'quinta', 'sexta', 'sábado')\n",
        "for dia in semana:\n",
        "    print(dia)"
      ],
      "metadata": {
        "colab": {
          "base_uri": "https://localhost:8080/"
        },
        "id": "OzEclK9cKABQ",
        "outputId": "46eb09f6-d4fe-4c44-a1bc-dc5e94f72881"
      },
      "id": "OzEclK9cKABQ",
      "execution_count": null,
      "outputs": [
        {
          "output_type": "stream",
          "name": "stdout",
          "text": [
            "domingo\n",
            "segunda\n",
            "terça\n",
            "quarta\n",
            "quinta\n",
            "sexta\n",
            "sábado\n"
          ]
        }
      ]
    },
    {
      "cell_type": "markdown",
      "source": [
        "## 6. Strings"
      ],
      "metadata": {
        "id": "Fq1osJrJB6n3"
      },
      "id": "Fq1osJrJB6n3"
    },
    {
      "cell_type": "code",
      "source": [
        "# acesso a caracteres\n",
        "texto = \"Python\"\n",
        "print(\"1° caractere:\", texto[0])              # acessa primeiro caractere\n",
        "print(\"Último caractere:\",texto[-1])          # acessa último caractere\n",
        "print(\"Intervalo de caracteres:\",texto[1:4])  # acessa intervalo de caracteres"
      ],
      "metadata": {
        "colab": {
          "base_uri": "https://localhost:8080/"
        },
        "id": "9_y3WpkRCDST",
        "outputId": "ccf5b08b-b5f1-426c-9176-abe0f24aa7d3"
      },
      "id": "9_y3WpkRCDST",
      "execution_count": null,
      "outputs": [
        {
          "output_type": "stream",
          "name": "stdout",
          "text": [
            "1° caractere: P\n",
            "Último caractere: n\n",
            "Intervalo de caracteres: yth\n"
          ]
        }
      ]
    },
    {
      "cell_type": "code",
      "source": [
        "# concatenação de palavras\n",
        "a = \"Hello\"\n",
        "b = \"World\"\n",
        "print(a + b)    # união de palavras\n",
        "print(\"Ha\" * 3) # multiplica string e faz a união"
      ],
      "metadata": {
        "colab": {
          "base_uri": "https://localhost:8080/"
        },
        "id": "U6y5QIXcTHF_",
        "outputId": "07df5320-2e33-46cb-b45d-a30fd74460b0"
      },
      "id": "U6y5QIXcTHF_",
      "execution_count": null,
      "outputs": [
        {
          "output_type": "stream",
          "name": "stdout",
          "text": [
            "HelloWorld\n",
            "HaHaHa\n"
          ]
        }
      ]
    },
    {
      "cell_type": "code",
      "source": [
        "# verifica se uma palavra faz parte de outro texto ou palavra\n",
        "texto   = \"Python é legal\"\n",
        "palavra = \"Python\"\n",
        "\n",
        "faz_parte = palavra in texto\n",
        "\n",
        "if faz_parte:\n",
        "  print(\"A palavra faz parte de outra\")\n",
        "else:\n",
        "  print(\"A palavra NÃO faz parte de outra\")"
      ],
      "metadata": {
        "colab": {
          "base_uri": "https://localhost:8080/"
        },
        "id": "shvKwsgTUPt-",
        "outputId": "84ebcda1-269d-46b3-edcd-470922cc1774"
      },
      "id": "shvKwsgTUPt-",
      "execution_count": null,
      "outputs": [
        {
          "output_type": "stream",
          "name": "stdout",
          "text": [
            "A palavra faz parte de outra\n"
          ]
        }
      ]
    },
    {
      "cell_type": "code",
      "source": [
        "# quantidade de caracteres de uma palavra ou texto\n",
        "texto = \"caramelo\"\n",
        "print(\"Tamanho:\",len(texto))"
      ],
      "metadata": {
        "colab": {
          "base_uri": "https://localhost:8080/"
        },
        "id": "T-wwsU0OWG9M",
        "outputId": "e4f79a0e-c5f3-47c2-b0e6-4a6687f56c97"
      },
      "id": "T-wwsU0OWG9M",
      "execution_count": null,
      "outputs": [
        {
          "output_type": "stream",
          "name": "stdout",
          "text": [
            "Tamanho: 8\n"
          ]
        }
      ]
    },
    {
      "cell_type": "code",
      "source": [
        "# contagem de palavra específico em uma palavra ou texto\n",
        "texto   = \"caramelo\"\n",
        "palavra = \"a\"\n",
        "print(\"Quantidade do caractere específico:\", texto.count(palavra))"
      ],
      "metadata": {
        "colab": {
          "base_uri": "https://localhost:8080/"
        },
        "id": "1iS8t9nLWcTk",
        "outputId": "a67c5691-501f-48e8-dacc-5610bf468150"
      },
      "id": "1iS8t9nLWcTk",
      "execution_count": null,
      "outputs": [
        {
          "output_type": "stream",
          "name": "stdout",
          "text": [
            "Quantidade do caractere específico: 2\n"
          ]
        }
      ]
    },
    {
      "cell_type": "code",
      "source": [
        "# posição da primeira aparição da palavra ou texto\n",
        "texto     = \"caramelo\"\n",
        "palavra   = \"am\"\n",
        "print(\"Posição da primeira aparição:\", texto.find(palavra))"
      ],
      "metadata": {
        "colab": {
          "base_uri": "https://localhost:8080/"
        },
        "id": "rEj44AxGXku1",
        "outputId": "70f8bfa2-fd40-4606-ce06-6c7c30ebdc24"
      },
      "id": "rEj44AxGXku1",
      "execution_count": null,
      "outputs": [
        {
          "output_type": "stream",
          "name": "stdout",
          "text": [
            "Posição da primeira aparição: 3\n"
          ]
        }
      ]
    },
    {
      "cell_type": "code",
      "source": [
        "# posição da última aparição da palavra ou texto\n",
        "texto     = \"programacao\"\n",
        "palavra   = \"a\"\n",
        "print(\"Posição da primeira aparição:\", texto.rfind(palavra))"
      ],
      "metadata": {
        "colab": {
          "base_uri": "https://localhost:8080/"
        },
        "id": "3ZsnolTUYc_l",
        "outputId": "b654a21c-bc9f-44a8-f2ab-1a70624cc8d4"
      },
      "id": "3ZsnolTUYc_l",
      "execution_count": null,
      "outputs": [
        {
          "output_type": "stream",
          "name": "stdout",
          "text": [
            "Posição da primeira aparição: 9\n"
          ]
        }
      ]
    },
    {
      "cell_type": "code",
      "source": [
        "# verifica se texto inicia com determinada palavra\n",
        "texto   = \"Python é legal\"\n",
        "palavra = \"Pyt\"\n",
        "\n",
        "inicia = texto.startswith(palavra)\n",
        "\n",
        "if inicia:\n",
        "  print(\"O texto inicia com a palavra\")\n",
        "else:\n",
        "  print(\"O texto NÃO inicia com a palavra\")"
      ],
      "metadata": {
        "colab": {
          "base_uri": "https://localhost:8080/"
        },
        "id": "WV157iTcZuYT",
        "outputId": "fe4e3b04-79bd-4f54-edfe-e228ec187137"
      },
      "id": "WV157iTcZuYT",
      "execution_count": null,
      "outputs": [
        {
          "output_type": "stream",
          "name": "stdout",
          "text": [
            "O texto inicia com a palavra\n"
          ]
        }
      ]
    },
    {
      "cell_type": "code",
      "source": [
        "# verifica se texto termina com determinada palavra\n",
        "texto   = \"Python é legal\"\n",
        "palavra = \"Pyt\"\n",
        "\n",
        "inicia = texto.endswith(palavra)\n",
        "\n",
        "if inicia:\n",
        "  print(\"O texto termina com a palavra\")\n",
        "else:\n",
        "  print(\"O texto NÃO termina com a palavra\")"
      ],
      "metadata": {
        "colab": {
          "base_uri": "https://localhost:8080/"
        },
        "id": "UGpOkgfHWYgM",
        "outputId": "41bd44a4-761d-498e-a30d-f571c68c5e12"
      },
      "id": "UGpOkgfHWYgM",
      "execution_count": null,
      "outputs": [
        {
          "output_type": "stream",
          "name": "stdout",
          "text": [
            "O texto NÃO termina com a palavra\n"
          ]
        }
      ]
    },
    {
      "cell_type": "code",
      "source": [
        "# remove os espaços à esquerda e a direita do texto ou palavra\n",
        "texto             = \"     Python é legal      \"\n",
        "texto_sem_espaco  = texto.strip()\n",
        "\n",
        "print(texto_sem_espaco)"
      ],
      "metadata": {
        "colab": {
          "base_uri": "https://localhost:8080/"
        },
        "id": "_8yWiO9IbhbV",
        "outputId": "ca474e21-a31a-4b2c-b78d-665bc5c1e20e"
      },
      "id": "_8yWiO9IbhbV",
      "execution_count": null,
      "outputs": [
        {
          "output_type": "stream",
          "name": "stdout",
          "text": [
            "Python é legal\n"
          ]
        }
      ]
    },
    {
      "cell_type": "code",
      "source": [
        "# converte letras maiusculas em minúsculas\n",
        "texto           = \"PyTHon\"\n",
        "texto_minusculo = texto.lower()\n",
        "\n",
        "print(texto_minusculo)"
      ],
      "metadata": {
        "colab": {
          "base_uri": "https://localhost:8080/"
        },
        "id": "ugGwjamzcYi2",
        "outputId": "38b74f50-d7ed-40d3-c007-4a7bcf5170fb"
      },
      "id": "ugGwjamzcYi2",
      "execution_count": null,
      "outputs": [
        {
          "output_type": "stream",
          "name": "stdout",
          "text": [
            "python\n"
          ]
        }
      ]
    },
    {
      "cell_type": "code",
      "source": [
        "# converte letras minúsculas em maiusculas\n",
        "texto           = \"PyTHon\"\n",
        "texto_maiusculas = texto.upper()\n",
        "\n",
        "print(texto_maiusculas)"
      ],
      "metadata": {
        "colab": {
          "base_uri": "https://localhost:8080/"
        },
        "id": "zLFeR1RrdO6X",
        "outputId": "a9c25f54-c708-4eb9-9d91-2bcd228e41b8"
      },
      "id": "zLFeR1RrdO6X",
      "execution_count": null,
      "outputs": [
        {
          "output_type": "stream",
          "name": "stdout",
          "text": [
            "PYTHON\n"
          ]
        }
      ]
    },
    {
      "cell_type": "code",
      "source": [
        "# substitui palavras ou parte delas por outra informação\n",
        "texto       = \"Python é uma linguagem de baixo nível\"\n",
        "texto_final = texto.replace(\"baixo\", \"alto\")\n",
        "\n",
        "print(texto_final)"
      ],
      "metadata": {
        "colab": {
          "base_uri": "https://localhost:8080/"
        },
        "id": "YTYtGd7jdm8P",
        "outputId": "5523f249-433b-49b4-ccba-e7b66a97e530"
      },
      "id": "YTYtGd7jdm8P",
      "execution_count": null,
      "outputs": [
        {
          "output_type": "stream",
          "name": "stdout",
          "text": [
            "Python é uma linguagem de alto nível\n"
          ]
        }
      ]
    },
    {
      "cell_type": "code",
      "source": [
        "# criação de lista dividindo textos pelo caracter divisor\n",
        "texto   = \"um,dois,tres\"\n",
        "divisor = \",\"\n",
        "lista = texto.split(divisor)\n",
        "print(\"Lista:\",lista)"
      ],
      "metadata": {
        "colab": {
          "base_uri": "https://localhost:8080/"
        },
        "id": "0DpmDjtbebFT",
        "outputId": "1ab9c950-d289-423a-b401-81325bbed83c"
      },
      "id": "0DpmDjtbebFT",
      "execution_count": null,
      "outputs": [
        {
          "output_type": "stream",
          "name": "stdout",
          "text": [
            "Lista: ['um', 'dois', 'tres']\n"
          ]
        }
      ]
    },
    {
      "cell_type": "code",
      "source": [
        "# acessar caracteres da string pelo comando for\n",
        "texto = \"Python\"\n",
        "for letra in texto:\n",
        "    print(letra)"
      ],
      "metadata": {
        "colab": {
          "base_uri": "https://localhost:8080/"
        },
        "id": "n7v5OrDgg1s1",
        "outputId": "8cbd9aed-6376-4036-cafe-7cf6c81ad22b"
      },
      "id": "n7v5OrDgg1s1",
      "execution_count": null,
      "outputs": [
        {
          "output_type": "stream",
          "name": "stdout",
          "text": [
            "P\n",
            "y\n",
            "t\n",
            "h\n",
            "o\n",
            "n\n"
          ]
        }
      ]
    }
  ],
  "metadata": {
    "colab": {
      "provenance": [],
      "collapsed_sections": [
        "oAvVFoPh1dsa",
        "kz_BF5he1N4q",
        "PD3trq21028i",
        "h9F5CFCn06uq",
        "3lZWvRZc0_F6",
        "Fq1osJrJB6n3"
      ]
    },
    "language_info": {
      "name": "python"
    },
    "kernelspec": {
      "name": "python3",
      "display_name": "Python 3"
    }
  },
  "nbformat": 4,
  "nbformat_minor": 5
}